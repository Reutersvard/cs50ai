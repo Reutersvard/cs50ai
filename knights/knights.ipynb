{
 "metadata": {
  "language_info": {
   "codemirror_mode": {
    "name": "ipython",
    "version": 3
   },
   "file_extension": ".py",
   "mimetype": "text/x-python",
   "name": "python",
   "nbconvert_exporter": "python",
   "pygments_lexer": "ipython3",
   "version": "3.9.1"
  },
  "orig_nbformat": 2,
  "kernelspec": {
   "name": "python391jvsc74a57bd0c80d1d8c41c868d474aef6bb2e6cdd67704b8038da8f0ff573aa56049aaf545b",
   "display_name": "Python 3.9.1 64-bit"
  },
  "metadata": {
   "interpreter": {
    "hash": "c80d1d8c41c868d474aef6bb2e6cdd67704b8038da8f0ff573aa56049aaf545b"
   }
  }
 },
 "nbformat": 4,
 "nbformat_minor": 2,
 "cells": [
  {
   "cell_type": "code",
   "execution_count": 3,
   "metadata": {},
   "outputs": [
    {
     "output_type": "stream",
     "name": "stdout",
     "text": [
      "A is a Knight\nB is a Knave\nC is a Knight\n"
     ]
    }
   ],
   "source": [
    "from logic import *\n",
    "\n",
    "AKnight = Symbol(\"A is a Knight\")\n",
    "AKnave = Symbol(\"A is a Knave\")\n",
    "\n",
    "BKnight = Symbol(\"B is a Knight\")\n",
    "BKnave = Symbol(\"B is a Knave\")\n",
    "\n",
    "CKnight = Symbol(\"C is a Knight\")\n",
    "CKnave = Symbol(\"C is a Knave\")\n",
    "\n",
    "generalK = And(\n",
    "    Or(AKnight, AKnave),\n",
    "    Not(And(AKnight, AKnave)),\n",
    "    Or(BKnight, BKnave),\n",
    "    Not(And(BKnight, BKnave)),\n",
    "    Or(CKnight, CKnave),\n",
    "    Not(And(CKnight, CKnave)),\n",
    ")\n",
    "\n",
    "knowledge = And(\n",
    "    \n",
    "    Implication(BKnight, CKnave),\n",
    "    Implication(BKnave, CKnight),\n",
    "    Implication(CKnight, AKnight),\n",
    "    Implication(CKnave, AKnave),\n",
    ")\n",
    "\n",
    "symbols = [AKnight, AKnave, BKnight, BKnave, CKnight, CKnave]\n",
    "\n",
    "for symbol in symbols:\n",
    "    if model_check(knowledge, symbol):\n",
    "        print(f\"{symbol}\")\n",
    "\n",
    "\n",
    "\n"
   ]
  }
 ]
}